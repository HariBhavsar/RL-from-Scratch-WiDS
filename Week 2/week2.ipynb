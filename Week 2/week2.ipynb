{
 "cells": [
  {
   "cell_type": "markdown",
   "metadata": {},
   "source": [
    "### Assignment : Week 2\n",
    "## Finding best policies in simple MDPs\n",
    "\n",
    "Great work making the MDPs in Week 1!\n",
    "\n",
    "In this assignment, we'll use the simplest RL techniques - Policy and Value iteration to find the best policies (which maximize the discounted total reward) in our MDPs from last week.\n",
    "\n",
    "Feel free to use your own MDPs, or import them from the OpenAI Gym library.\n",
    "\n",
    "You can start this assignment during/after reading Grokking Ch-3."
   ]
  },
  {
   "cell_type": "markdown",
   "metadata": {},
   "source": [
    "Let us recall the equation to find the value function of agent's states under a policy $\\pi$ -\n",
    "$$v_{\\pi}(s) = \\sum _{a} \\pi(a|s) ~ \\left( ~ \\sum _{s', r} ~ p(s', r | s, a) ~ \\left[r + \\gamma v_{\\pi}(s') \\right] ~ \\right)$$\n",
    "\n",
    "We can observe that the value function $v_{\\pi}$ has a lot of circular dependencies on different states. \n",
    "\n",
    "To solve such equations, one of the ways is to iteratively calculate the RHS and replace the LHS by it until the $v_{\\pi}(s)$ values start to converge. \n",
    "\n",
    "The point of convergence makes all the equations simultaneously true and hence is the required solution."
   ]
  },
  {
   "cell_type": "markdown",
   "metadata": {},
   "source": [
    "Let us calculate the value functions for some policies in the MDPs we created last week."
   ]
  },
  {
   "cell_type": "markdown",
   "metadata": {},
   "source": [
    "## Environment 0 - Bandit Walk\n",
    "\n",
    "Again, we consider the BW environment on Page 39.\n",
    "\n",
    "Let's consider what seems to be the most natural policy - always go Right.\n",
    "\n",
    "This environment is so simple, that we can simply calculate the value functions by hand."
   ]
  },
  {
   "cell_type": "markdown",
   "metadata": {},
   "source": [
    "Note that by convention for the terminal states, \n",
    "$$v_{\\pi}(0) = v_{\\pi}(2) = 0$$\n",
    "\n",
    "Now, \n",
    "$$v_{\\pi}(1) = 1 + \\gamma \\cdot v_{\\pi}(2) = 1$$\n",
    "\n",
    "Note both the summations just have one term due to the deterministic nature of the environment and the policy (check which summation was corresponding to which stochastic variable)"
   ]
  },
  {
   "cell_type": "markdown",
   "metadata": {},
   "source": [
    "## Environment 1 - Slippery Walk\n",
    "\n",
    "Let's now try to solve the SWF environment from Page 67 for the naturally adversarial policy - always go Left.\n",
    "\n",
    "Since we have 5 coupled equations for states 1-5 with 5 unknown variables, we'll use Python to bruteforce the solution.\n",
    "\n",
    "To align with Grokking, let us consider an unusual $\\gamma = 1$."
   ]
  },
  {
   "cell_type": "code",
   "execution_count": 1,
   "metadata": {},
   "outputs": [],
   "source": [
    "# Step 0 is to import stuff\n",
    "\n",
    "import gym, gym_walk\n",
    "import numpy as np\n",
    "from gym.envs.toy_text.frozen_lake import generate_random_map"
   ]
  },
  {
   "cell_type": "code",
   "execution_count": 180,
   "metadata": {},
   "outputs": [],
   "source": [
    "# Step 1 is to get the MDP\n",
    "\n",
    "env = gym.make('SlipperyWalkFive-v0')\n",
    "swf_mdp = env.P\n",
    "# swf_mdp\n",
    "\n",
    "# Note that in Gym, action \"Left\" is \"0\" and \"Right\" is \"1\""
   ]
  },
  {
   "cell_type": "code",
   "execution_count": 169,
   "metadata": {},
   "outputs": [],
   "source": [
    "# Step 2 is to write the policy\n",
    "\n",
    "pi = {\n",
    "    0 : 0,\n",
    "    1 : 0,\n",
    "    2 : 0,\n",
    "    3 : 0,\n",
    "    4 : 0,\n",
    "    5 : 0,\n",
    "    6 : 0\n",
    "}\n",
    "\n",
    "# Or you can do it randomly\n",
    "# pi = dict()\n",
    "# for state in mdp:\n",
    "#     pi[state] = np.random.choice(mdp[state].keys())"
   ]
  },
  {
   "cell_type": "code",
   "execution_count": 170,
   "metadata": {},
   "outputs": [],
   "source": [
    "# Step 3 is computing the value function for this envi and policy\n",
    "\n",
    "# Let us start with a random value function\n",
    "\n",
    "val = dict()\n",
    "for state in swf_mdp:\n",
    "    val[state] = np.random.random()\n",
    "\n",
    "# Since 0 and 6 are terminal states, we know their values are 0\n",
    "\n",
    "val[0] = 0\n",
    "val[6] = 0\n",
    "\n",
    "#Or you could do it randomly, remember to set the terminal states to 0. You can also implement this while evaluating the value function using \n",
    "# val = dict()\n",
    "# for state in mdp:\n",
    "#     val[state] = np.random.random()\n",
    "#     if mdp[state][0][0][0] == 0: # if the first action in the first outcome of the first state is 0, then it is a terminal state\n",
    "#         val[state] = 0\n",
    "\n",
    "#instead of doing thsi you can simply intialize the value function to 0 for all states \n",
    "# for state in swf_mdp:\n",
    "#   val[state] = 0"
   ]
  },
  {
   "cell_type": "code",
   "execution_count": 171,
   "metadata": {},
   "outputs": [],
   "source": [
    "def get_new_value_fn(val, mdp, pi, gamma = 1.0):\n",
    "    \n",
    "    new_val = np.zeros(len(mdp))\n",
    "    for s in range(len(mdp)):\n",
    "        for prob,nextState,reward,done in mdp[s][pi[s]]:\n",
    "            if done:\n",
    "                new_val[s] += prob*reward\n",
    "            else:\n",
    "                new_val[s] += prob*(reward + gamma*val[nextState])\n",
    "    # Complete this function to get the new value function given the old value function and the policy\n",
    "    return new_val\n"
   ]
  },
  {
   "cell_type": "code",
   "execution_count": 172,
   "metadata": {},
   "outputs": [],
   "source": [
    "def policy_evaluation(val, mdp, pi, epsilon=1e-10, gamma=1.0):\n",
    "    count = 0\n",
    "    # Complete this function to iteratively caluculate the value function until the difference between the new and old value function is less than epsilon\n",
    "    while (True):\n",
    "        V = get_new_value_fn(val,mdp,pi,gamma)\n",
    "        count+=1\n",
    "        if (np.max(np.abs(val-V)) < epsilon):\n",
    "            break\n",
    "        val = V\n",
    "    # Also return the number of iterations it took to converge\n",
    "    return val, count \n"
   ]
  },
  {
   "cell_type": "code",
   "execution_count": 173,
   "metadata": {},
   "outputs": [],
   "source": [
<<<<<<< HEAD
    "def policy_improvement(val, mdp, gamma=1.0):\n",
    "    new_pi = np.zeros(len(mdp))\n",
    "    q = np.zeros((len(mdp),len(mdp[0])),dtype=np.float64)\n",
    "    for s in range(len(mdp)):\n",
    "        for a in range(len(mdp[s])):\n",
    "            for prob,nextState,reward,done in mdp[s][a]:\n",
    "                if done:\n",
    "                    q[s][a] += prob*reward\n",
    "                else:\n",
    "                    q[s][a] += prob*(reward + gamma*val[nextState])\n",
=======
    "# Perform policy improvement using the polivy and the value function and return a new policy, the action value function should be a nested dictionary\n",
    "def policy_improvement(val, mdp, pi, gamma=1.0):\n",
    "    new_pi = dict()\n",
    "    q = dict()\n",
>>>>>>> 0ebbaf68d7463a47eaf7cb00b6d858e7f04e0307
    "    # Complete this function to get the new policy given the value function and the mdp\n",
    "    for s in range(len(mdp)):\n",
    "        t = np.max(q[s])\n",
    "        for i in range(len(q[s])):\n",
    "            if q[s][i]==t:\n",
    "                new_pi[s]=i\n",
    "    return new_pi, q\n",
    "# Use the above functions to get the optimal policy and optimal value function and return the total number of iterations it took to converge\n",
    "# Create a random policy and value function to start with or use the ones defined above\n"
   ]
  },
  {
   "cell_type": "code",
   "execution_count": 174,
   "metadata": {},
   "outputs": [],
   "source": [
    "def policy_iteration(mdp, epsilon=1e-10, gamma=1.0):\n",
    "    #randomActs = np.random.choice(tuple(mdp[0].keys()),len(mdp))\n",
    "    count = 0\n",
    "    pi = np.zeros(len(mdp))\n",
    "    val = np.zeros(len(mdp))\n",
    "    #print(pi)\n",
    "    #return pi,0,0\n",
    "\n",
    "    while True:\n",
    "        old_pi = np.zeros(len(mdp))\n",
    "        for i in range(len(mdp)):\n",
    "            old_pi[i] = pi[i]\n",
    "        #print(old_pi)\n",
    "        #break\n",
    "        val,tmp = policy_evaluation(val,mdp,pi,epsilon,gamma)\n",
    "        #print(val)\n",
    "        #return 0,0,0\n",
    "        pi,q = policy_improvement(val,mdp,gamma)\n",
    "        count+=tmp\n",
    "        \n",
    "        shouldBreak = True\n",
    "\n",
    "        for s in range(len(mdp)):\n",
    "            if old_pi[s] != pi[s]:\n",
    "                shouldBreak = False\n",
    "\n",
    "        if shouldBreak:\n",
    "            break\n",
    "\n",
    "    # Complete this function to get the optimal policy and value function and return the total number of iterations it took to converge\n",
    "    return pi, val, count\n"
   ]
  },
  {
   "cell_type": "code",
   "execution_count": 175,
   "metadata": {},
   "outputs": [],
   "source": [
    "def value_iteration(mdp, gamma=1.0, epsilon=1e-10):\n",
    "    #val = {s: 0 for s in mdp}\n",
    "    val = np.zeros(len(mdp),dtype=np.float64)\n",
    "    count = 0\n",
    "    #q = dict()\n",
    "    # Complete this function to get the optimal policy, optimal value function and return the total number of iterations it took to converge\n",
    "    while True:\n",
    "        q = np.zeros((len(mdp),len(mdp[0])),dtype=np.float64)\n",
    "        for s in range(len(mdp)):\n",
    "            for a in range(len(mdp[s])):\n",
    "                for prob,nextState,reward,done in mdp[s][a]:\n",
    "                    if done:\n",
    "                        q[s][a] += prob*reward\n",
    "                    else:\n",
    "                        q[s][a] += prob*(reward + gamma*val[nextState])\n",
    "        count+=1\n",
    "        if (np.max(np.abs(val - np.max(q, axis=1))) < epsilon):\n",
    "            break\n",
    "        val = np.max(q, axis=1)\n",
    "    \n",
    "    pi = np.zeros(len(mdp))\n",
    "    for s in range(len(mdp)):\n",
    "        t = np.max(q[s])\n",
    "        for i in range(len(q[s])):\n",
    "            if q[s][i]==t:\n",
    "                pi[s] = i\n",
    "    #print(val)\n",
    "    #print(pi)\n",
    "    #print(count)\n",
    "    return pi, val, count\n"
   ]
  },
  {
   "cell_type": "markdown",
   "metadata": {},
   "source": [
    "## Enviroment 2 - Frozen Lake\n",
    "\n",
    "Repeat the above steps for the frozen lake environment. Don't create new functions , use the old functions.\n",
    "\n",
    "You can also write a function `test_policy()` to test your policy after training to find the number of times you reached the goal state"
   ]
  },
  {
   "cell_type": "markdown",
   "metadata": {},
   "source": []
  },
  {
   "cell_type": "code",
   "execution_count": 3,
   "metadata": {},
   "outputs": [],
   "source": [
    "env2 = gym.make('FrozenLake-v1',desc=generate_random_map(size=4))\n",
    "mdp2 = env2.P"
   ]
  },
  {
   "cell_type": "code",
   "execution_count": null,
   "metadata": {},
   "outputs": [],
   "source": [
    "pi1, val1, count1 = policy_iteration(mdp2)\n",
    "pi2, val2, count2 = value_iteration(mdp2)"
   ]
  },
  {
   "cell_type": "code",
   "execution_count": null,
   "metadata": {},
   "outputs": [],
   "source": [
    "def playMove(currState,mdp,move):\n",
    "\n",
    "    nextState = currState\n",
    "    tmp = mdp[currState]\n",
    "    tmp2 = tmp[move]\n",
    "    numPossibleOutcomes = len(tmp2)\n",
    "    probOutcome = np.zeros(len(tmp2))\n",
    "    for i in range(0,numPossibleOutcomes):\n",
    "        probOutcome[i] = tmp2[i][0]\n",
    "    action = np.random.choice(len(probOutcome), p=probOutcome)\n",
    "    nextState = tmp2[action][1]\n",
    "    return nextState\n",
    "\n",
    "def test_policy(pi,env,goalstate):\n",
    "    numWins = 0\n",
    "    numTests = 100\n",
    "    mdp = env.P\n",
    "    for i in range(0,numTests):\n",
    "        #simulate the game happening\n",
    "        #ok but how tho\n",
    "        currState = 0 #starting state is 0?\n",
    "        numIters = 0\n",
    "        while True:\n",
    "            if numIters > 1000:\n",
    "                break\n",
    "            tmp = playMove(currState,mdp,pi[currState])\n",
    "            if tmp == goalstate:\n",
    "                numWins += 1 #victory\n",
    "                break\n",
    "            elif mdp[tmp][0][0] == 1:\n",
    "                break #terminal state\n",
    "            currState = tmp\n",
    "            numIters +=1\n",
    "\n",
    "    percent = numWins/numTests\n",
    "    return percent\n"
   ]
  }
 ],
 "metadata": {
  "kernelspec": {
   "display_name": "Python 3",
   "language": "python",
   "name": "python3"
  },
  "language_info": {
   "codemirror_mode": {
    "name": "ipython",
    "version": 3
   },
   "file_extension": ".py",
   "mimetype": "text/x-python",
   "name": "python",
   "nbconvert_exporter": "python",
   "pygments_lexer": "ipython3",
   "version": "3.11.2"
  }
 },
 "nbformat": 4,
 "nbformat_minor": 2
}
